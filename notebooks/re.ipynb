{
 "cells": [
  {
   "cell_type": "code",
   "execution_count": 6,
   "metadata": {},
   "outputs": [],
   "source": [
    "import re"
   ]
  },
  {
   "cell_type": "code",
   "execution_count": 7,
   "metadata": {},
   "outputs": [],
   "source": [
    "def process_input(user_input):\n",
    "    '''\n",
    "    Returns the processed user input string where the first letter of every\n",
    "    word is always a capital letter so it matches the dataset\n",
    "\n",
    "    Parameters:\n",
    "\n",
    "    user_input (string): user input location search\n",
    "    '''\n",
    "    lower_input = user_input.lower()\n",
    "\n",
    "    input_list = re.split(r'\\s',lower_input)\n",
    "\n",
    "    output_str = \"\"\n",
    "\n",
    "    # White spaces should be 1 less than how many words\n",
    "    ws_qty = len(input_list) - 1\n",
    "    ws_count = 0\n",
    "\n",
    "    if len(input_list) != 1:\n",
    "\n",
    "        for elem in input_list:\n",
    "\n",
    "            # Make capital only the first letter of every word\n",
    "            output_str += elem[0].upper()\n",
    "\n",
    "            # Concatenate the rest of the word\n",
    "            output_str += elem[1::]\n",
    "\n",
    "            # Add a whitepace to the string if not in the last word of the list\n",
    "            if ws_count < ws_qty:\n",
    "                output_str += \" \"\n",
    "                ws_count+= 1\n",
    "    else:\n",
    "        output_str = lower_input[0].upper() + lower_input[1::]\n",
    "\n",
    "\n",
    "    return output_str"
   ]
  },
  {
   "cell_type": "code",
   "execution_count": 10,
   "metadata": {},
   "outputs": [],
   "source": [
    "x = process_input(\"new york\")"
   ]
  },
  {
   "cell_type": "code",
   "execution_count": 11,
   "metadata": {},
   "outputs": [
    {
     "data": {
      "text/plain": [
       "'New York'"
      ]
     },
     "execution_count": 11,
     "metadata": {},
     "output_type": "execute_result"
    }
   ],
   "source": [
    "x"
   ]
  },
  {
   "cell_type": "code",
   "execution_count": null,
   "metadata": {},
   "outputs": [],
   "source": []
  }
 ],
 "metadata": {
  "kernelspec": {
   "display_name": "Python 3",
   "language": "python",
   "name": "python3"
  },
  "language_info": {
   "codemirror_mode": {
    "name": "ipython",
    "version": 3
   },
   "file_extension": ".py",
   "mimetype": "text/x-python",
   "name": "python",
   "nbconvert_exporter": "python",
   "pygments_lexer": "ipython3",
   "version": "3.7.6"
  }
 },
 "nbformat": 4,
 "nbformat_minor": 4
}
