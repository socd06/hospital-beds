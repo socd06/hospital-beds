{
 "cells": [
  {
   "cell_type": "code",
   "execution_count": 3,
   "metadata": {},
   "outputs": [
    {
     "data": {
      "text/plain": [
       "postal_code                 75013\n",
       "country code                   FR\n",
       "place_name        Paris 13, Paris\n",
       "state_name          Île-de-France\n",
       "state_code                     11\n",
       "county_name                 Paris\n",
       "county_code                    75\n",
       "community_name              Paris\n",
       "community_code                751\n",
       "latitude                  48.8322\n",
       "longitude                 2.35245\n",
       "accuracy                        5\n",
       "Name: 0, dtype: object"
      ]
     },
     "execution_count": 3,
     "metadata": {},
     "output_type": "execute_result"
    }
   ],
   "source": [
    "# Convert zip code to coordinates [longitude, latitude]\n",
    "import pgeocode\n",
    "\n",
    "nomi = pgeocode.Nominatim('fr')\n",
    "nomi.query_postal_code(\"75013\")"
   ]
  },
  {
   "cell_type": "code",
   "execution_count": 3,
   "metadata": {},
   "outputs": [
    {
     "data": {
      "text/plain": [
       "postal_code         75013\n",
       "country code           US\n",
       "place_name          Allen\n",
       "state_name          Texas\n",
       "state_code             TX\n",
       "county_name        Collin\n",
       "county_code            85\n",
       "community_name        NaN\n",
       "community_code        NaN\n",
       "latitude          33.1186\n",
       "longitude        -96.6773\n",
       "accuracy                4\n",
       "Name: 0, dtype: object"
      ]
     },
     "execution_count": 3,
     "metadata": {},
     "output_type": "execute_result"
    }
   ],
   "source": [
    "nomi = pgeocode.Nominatim('us')\n",
    "nomi.query_postal_code(\"75013\")"
   ]
  },
  {
   "cell_type": "code",
   "execution_count": 1,
   "metadata": {},
   "outputs": [],
   "source": [
    "query = \"75013\""
   ]
  },
  {
   "cell_type": "code",
   "execution_count": 4,
   "metadata": {},
   "outputs": [],
   "source": [
    "country_init = pgeocode.Nominatim(\"us\")\n",
    "query_obj = country_init.query_postal_code(query)\n",
    "query_obj.place_name\n",
    "center_coords = [query_obj.longitude, query_obj.latitude]"
   ]
  },
  {
   "cell_type": "code",
   "execution_count": 5,
   "metadata": {},
   "outputs": [
    {
     "data": {
      "text/plain": [
       "[-96.6773, 33.1186]"
      ]
     },
     "execution_count": 5,
     "metadata": {},
     "output_type": "execute_result"
    }
   ],
   "source": [
    "center_coords"
   ]
  },
  {
   "cell_type": "code",
   "execution_count": 6,
   "metadata": {},
   "outputs": [
    {
     "data": {
      "text/plain": [
       "'Allen'"
      ]
     },
     "execution_count": 6,
     "metadata": {},
     "output_type": "execute_result"
    }
   ],
   "source": [
    "query_obj.place_name"
   ]
  },
  {
   "cell_type": "code",
   "execution_count": 7,
   "metadata": {},
   "outputs": [],
   "source": [
    "query_obj = country_init.query_postal_code(123456)\n"
   ]
  },
  {
   "cell_type": "code",
   "execution_count": 25,
   "metadata": {},
   "outputs": [
    {
     "data": {
      "text/plain": [
       "postal_code       123456\n",
       "country code         NaN\n",
       "place_name           NaN\n",
       "state_name           NaN\n",
       "state_code           NaN\n",
       "county_name          NaN\n",
       "county_code          NaN\n",
       "community_name       NaN\n",
       "community_code       NaN\n",
       "latitude             NaN\n",
       "longitude            NaN\n",
       "accuracy             NaN\n",
       "Name: 0, dtype: object"
      ]
     },
     "execution_count": 25,
     "metadata": {},
     "output_type": "execute_result"
    }
   ],
   "source": [
    "query_obj"
   ]
  },
  {
   "cell_type": "code",
   "execution_count": 32,
   "metadata": {},
   "outputs": [
    {
     "data": {
      "text/plain": [
       "nan"
      ]
     },
     "execution_count": 32,
     "metadata": {},
     "output_type": "execute_result"
    }
   ],
   "source": [
    "query_obj.place_name"
   ]
  },
  {
   "cell_type": "code",
   "execution_count": 36,
   "metadata": {},
   "outputs": [
    {
     "data": {
      "text/plain": [
       "True"
      ]
     },
     "execution_count": 36,
     "metadata": {},
     "output_type": "execute_result"
    }
   ],
   "source": [
    "pd.isna(query_obj.place_name)"
   ]
  },
  {
   "cell_type": "code",
   "execution_count": 15,
   "metadata": {},
   "outputs": [],
   "source": [
    "import numpy as np"
   ]
  },
  {
   "cell_type": "code",
   "execution_count": 16,
   "metadata": {},
   "outputs": [
    {
     "data": {
      "text/plain": [
       "nan"
      ]
     },
     "execution_count": 16,
     "metadata": {},
     "output_type": "execute_result"
    }
   ],
   "source": [
    "np.nan"
   ]
  },
  {
   "cell_type": "code",
   "execution_count": 21,
   "metadata": {},
   "outputs": [],
   "source": [
    "import pandas as pd"
   ]
  },
  {
   "cell_type": "code",
   "execution_count": 27,
   "metadata": {},
   "outputs": [
    {
     "data": {
      "text/plain": [
       "postal_code       False\n",
       "country code       True\n",
       "place_name         True\n",
       "state_name         True\n",
       "state_code         True\n",
       "county_name        True\n",
       "county_code        True\n",
       "community_name     True\n",
       "community_code     True\n",
       "latitude           True\n",
       "longitude          True\n",
       "accuracy           True\n",
       "Name: 0, dtype: bool"
      ]
     },
     "execution_count": 27,
     "metadata": {},
     "output_type": "execute_result"
    }
   ],
   "source": [
    "query_obj.isna()"
   ]
  },
  {
   "cell_type": "code",
   "execution_count": null,
   "metadata": {},
   "outputs": [],
   "source": []
  }
 ],
 "metadata": {
  "kernelspec": {
   "display_name": "Python 3",
   "language": "python",
   "name": "python3"
  },
  "language_info": {
   "codemirror_mode": {
    "name": "ipython",
    "version": 3
   },
   "file_extension": ".py",
   "mimetype": "text/x-python",
   "name": "python",
   "nbconvert_exporter": "python",
   "pygments_lexer": "ipython3",
   "version": "3.7.6"
  }
 },
 "nbformat": 4,
 "nbformat_minor": 4
}
