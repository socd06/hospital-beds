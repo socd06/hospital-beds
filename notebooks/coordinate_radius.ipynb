{
 "cells": [
  {
   "cell_type": "code",
   "execution_count": 2,
   "metadata": {},
   "outputs": [
    {
     "ename": "ModuleNotFoundError",
     "evalue": "No module named 'geopandas'",
     "output_type": "error",
     "traceback": [
      "\u001b[0;31m---------------------------------------------------------------------------\u001b[0m",
      "\u001b[0;31mModuleNotFoundError\u001b[0m                       Traceback (most recent call last)",
      "\u001b[0;32m<ipython-input-2-a62d01c1d62e>\u001b[0m in \u001b[0;36m<module>\u001b[0;34m\u001b[0m\n\u001b[0;32m----> 1\u001b[0;31m \u001b[0;32mimport\u001b[0m \u001b[0mgeopandas\u001b[0m \u001b[0;32mas\u001b[0m \u001b[0mgpd\u001b[0m\u001b[0;34m\u001b[0m\u001b[0;34m\u001b[0m\u001b[0m\n\u001b[0m",
      "\u001b[0;31mModuleNotFoundError\u001b[0m: No module named 'geopandas'"
     ]
    }
   ],
   "source": [
    "!pip install geopandas"
   ]
  },
  {
   "cell_type": "code",
   "execution_count": 6,
   "metadata": {},
   "outputs": [],
   "source": [
    "import numpy as np\n",
    "import math"
   ]
  },
  {
   "cell_type": "code",
   "execution_count": 3,
   "metadata": {},
   "outputs": [],
   "source": [
    "def get_corners(dataframe, coordinates, radius):\n",
    "    '''\n",
    "    Returns the coordinates after adding the radius in Kilometers\n",
    "\n",
    "    1 deg Latitude  =  110.574 km\n",
    "    1 deg Longitude = 111.320*cos(latitude)\n",
    "\n",
    "    Parameters:\n",
    "\n",
    "    radius: radius in Kilometers\n",
    "\n",
    "    coordinates: zip code coordinates in list [longitude, latitude] format\n",
    "    '''\n",
    "    if radius == None:\n",
    "        sw = dataframe[['Y', 'X']].min().values.tolist()\n",
    "        ne = dataframe[['Y', 'X']].max().values.tolist()\n",
    "\n",
    "        corners = [sw, ne]\n",
    "\n",
    "    else:\n",
    "        # convert to km\n",
    "        \n",
    "        \n"
   ]
  },
  {
   "cell_type": "code",
   "execution_count": 22,
   "metadata": {},
   "outputs": [],
   "source": [
    "def get_corners(coordinates, radius):\n",
    "    # in meters    \n",
    "    angle = 45\n",
    "    earthRadius = 6371000\n",
    "    \n",
    "    north_distance = math.sin(angle) * radius\n",
    "    east_distance = math.cos(angle) * radius\n",
    "    \n",
    "    ne_latitude = coordinates[1] + (north_distance / earthRadius) * 180 / math.pi\n",
    "    ne_longitude = coordinates[0] + (east_distance / (earthRadius * math.cos(ne_latitude * 180 / math.pi))) * 180 / math.pi\n",
    "    \n",
    "    sw_latitude = coordinates[1] - (north_distance / earthRadius) * 180 / math.pi\n",
    "    sw_longitude = coordinates[0] - (east_distance / (earthRadius * math.cos(ne_latitude * 180 / math.pi))) * 180 / math.pi\n",
    "    \n",
    "    ne_corner = [ne_longitude, ne_latitude]\n",
    "    sw_corner = [sw_longitude, sw_latitude]\n",
    "    \n",
    "    corners = [sw_corner, ne_corner] \n",
    "    \n",
    "    return corners\n",
    "    "
   ]
  },
  {
   "cell_type": "code",
   "execution_count": 25,
   "metadata": {},
   "outputs": [],
   "source": [
    "new_corner = get_corners([-112.7391411, 33.9782824], 10000) "
   ]
  },
  {
   "cell_type": "code",
   "execution_count": 26,
   "metadata": {},
   "outputs": [
    {
     "data": {
      "text/plain": [
       "[[-112.69015399470607, 33.901758807583406],\n",
       " [-112.78812820529393, 34.05480599241659]]"
      ]
     },
     "execution_count": 26,
     "metadata": {},
     "output_type": "execute_result"
    }
   ],
   "source": [
    "new_corner"
   ]
  },
  {
   "cell_type": "code",
   "execution_count": null,
   "metadata": {},
   "outputs": [],
   "source": [
    "public LatLng translateCoordinates(final double distance, final LatLng origpoint, final double angle) {\n",
    "        final double distanceNorth = Math.sin(angle) * distance;\n",
    "        final double distanceEast = Math.cos(angle) * distance;\n",
    "\n",
    "        final double earthRadius = 6371000;\n",
    "\n",
    "        final double newLat = origpoint.latitude + (distanceNorth / earthRadius) * 180 / Math.PI;\n",
    "        final double newLon = origpoint.longitude + (distanceEast / (earthRadius * Math.cos(newLat * 180 / Math.PI))) * 180 / Math.PI;\n",
    "\n",
    "        return new LatLng(newLat, newLon);\n",
    "}"
   ]
  }
 ],
 "metadata": {
  "kernelspec": {
   "display_name": "Python 3",
   "language": "python",
   "name": "python3"
  },
  "language_info": {
   "codemirror_mode": {
    "name": "ipython",
    "version": 3
   },
   "file_extension": ".py",
   "mimetype": "text/x-python",
   "name": "python",
   "nbconvert_exporter": "python",
   "pygments_lexer": "ipython3",
   "version": "3.7.6"
  }
 },
 "nbformat": 4,
 "nbformat_minor": 4
}
