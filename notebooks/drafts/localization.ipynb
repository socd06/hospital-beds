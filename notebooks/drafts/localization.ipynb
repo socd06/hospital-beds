{
 "cells": [
  {
   "cell_type": "markdown",
   "metadata": {},
   "source": [
    "## Get spatial localization\n",
    "Reference: \n",
    "https://stackoverflow.com/questions/24906833/get-your-location-through-python"
   ]
  },
  {
   "cell_type": "code",
   "execution_count": 1,
   "metadata": {},
   "outputs": [],
   "source": [
    "# uncomment to see more detailed info about your ip address\n",
    "#! curl ipinfo.io"
   ]
  },
  {
   "cell_type": "code",
   "execution_count": 2,
   "metadata": {},
   "outputs": [
    {
     "data": {
      "text/plain": [
       "['42.9834,-81.2330']"
      ]
     },
     "execution_count": 2,
     "metadata": {},
     "output_type": "execute_result"
    }
   ],
   "source": [
    "#cmd_out = ! curl ipinfo.io/loc -s\n",
    "cmd_out = ! curl ipinfo.io/loc -s\n",
    "\n",
    "# making sure we got our request back\n",
    "cmd_out"
   ]
  },
  {
   "cell_type": "code",
   "execution_count": 3,
   "metadata": {},
   "outputs": [],
   "source": [
    "# Reading from stdout\n",
    "x = str(cmd_out.fields(0))\n",
    "\n",
    "# Must search with regex    \n",
    "separator = x.find(',')"
   ]
  },
  {
   "cell_type": "code",
   "execution_count": 4,
   "metadata": {},
   "outputs": [
    {
     "data": {
      "text/plain": [
       "[42.9834, -81.233]"
      ]
     },
     "execution_count": 4,
     "metadata": {},
     "output_type": "execute_result"
    }
   ],
   "source": [
    "# Converting stdout SList to coordinate floating point list\n",
    "coordinates = [float(x[2:separator]),float(x[separator+1:-2])]\n",
    "\n",
    "# and doing a sanity check\n",
    "coordinates"
   ]
  },
  {
   "cell_type": "code",
   "execution_count": 5,
   "metadata": {},
   "outputs": [],
   "source": [
    "# folium will make our maps for us\n",
    "import folium"
   ]
  },
  {
   "cell_type": "code",
   "execution_count": 6,
   "metadata": {},
   "outputs": [],
   "source": [
    "# Create map object\n",
    "m = folium.Map(location=coordinates, zoom_start=12)\n",
    "\n",
    "# Generate map\n",
    "m.save('my-location.html')"
   ]
  },
  {
   "cell_type": "markdown",
   "metadata": {},
   "source": [
    "# Continue with\n",
    "https://www.youtube.com/watch?v=4RnU5qKTfYY\n"
   ]
  }
 ],
 "metadata": {
  "kernelspec": {
   "display_name": "Python 3",
   "language": "python",
   "name": "python3"
  },
  "language_info": {
   "codemirror_mode": {
    "name": "ipython",
    "version": 3
   },
   "file_extension": ".py",
   "mimetype": "text/x-python",
   "name": "python",
   "nbconvert_exporter": "python",
   "pygments_lexer": "ipython3",
   "version": "3.7.8"
  }
 },
 "nbformat": 4,
 "nbformat_minor": 4
}
